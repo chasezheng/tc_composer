{
 "cells": [
  {
   "cell_type": "code",
   "execution_count": 1,
   "metadata": {},
   "outputs": [
    {
     "name": "stderr",
     "output_type": "stream",
     "text": [
      "[INFO] tc_composer.settings - Setting default tensor type: torch.cuda.FloatTensor\n",
      "[INFO] tc_composer.settings - Setting epsilon: 1e-16\n",
      "[INFO] tc_composer.settings - Input tensor shape checking: False\n",
      "[INFO] tc_composer.settings - Saving compiled options in: /home/ubuntu/tc_composer/options\n"
     ]
    }
   ],
   "source": [
    "import tensor_comprehensions as tc\n",
    "import torch\n",
    "import tc_composer\n",
    "from torch.autograd import Variable\n",
    "from torch.nn import Conv2d\n",
    "from tc_composer.func.conv import Convolution"
   ]
  },
  {
   "cell_type": "markdown",
   "metadata": {},
   "source": [
    "# Conv with stride/padding"
   ]
  },
  {
   "cell_type": "code",
   "execution_count": 2,
   "metadata": {
    "scrolled": true
   },
   "outputs": [],
   "source": [
    "in_channels = 3\n",
    "out_channels = 64\n",
    "kernel_size = (11, 11)\n",
    "padding=(2, 2)\n",
    "stride=(4, 4)\n",
    "groups = 1\n",
    "\n",
    "batch_size = 2\n",
    "in_height = 128\n",
    "in_width = 128"
   ]
  },
  {
   "cell_type": "code",
   "execution_count": 3,
   "metadata": {},
   "outputs": [],
   "source": [
    "tc_image = torch.randn(batch_size, in_channels, in_height, in_width)\n",
    "tc_conv = Convolution(in_channels=3, out_channels=64, kernel_size=kernel_size, padding=padding, stride=stride, groups=groups)"
   ]
  },
  {
   "cell_type": "code",
   "execution_count": 4,
   "metadata": {},
   "outputs": [
    {
     "name": "stdout",
     "output_type": "stream",
     "text": [
      "def Convolution(\n",
      "    float(2, 3, 128, 128) input,\n",
      "    float(64, 3, 11, 11) weight,\n",
      "    float(64) bias\n",
      ") -> (\n",
      "    float(2, 64, 31, 31) output\n",
      ")\n",
      "{\n",
      "    output(n, m, h, w) +=! ((4*h + kh - 2) * (127 - (4*h + kh - 2)) >= 0) && ((4*w + kw - 2) * (127 - (4*w + kw - 2)) >= 0) ?\n",
      "        input(n, c, 4*h + kh - 2, 4*w + kw - 2) * weight(m, c, kh, kw) : 0.0\n",
      "            where kh in 0:11, kw in 0:11, h in 0:31, w in 0:31\n",
      "    output(n, m, h, w) = output(n, m, h, w) + bias(m)\n",
      "}\n"
     ]
    }
   ],
   "source": [
    "print(tc_conv.tc_def(tc_image))"
   ]
  },
  {
   "cell_type": "markdown",
   "metadata": {},
   "source": [
    "# Tuning"
   ]
  },
  {
   "cell_type": "code",
   "execution_count": 5,
   "metadata": {},
   "outputs": [
    {
     "name": "stderr",
     "output_type": "stream",
     "text": [
      "[INFO] Convolution - Loading start options from file - /home/ubuntu/tc_composer/options/Convolution_Tesla_V100-SXM2-16GB\n",
      "[INFO] Convolution - Option loaded from file for input shape - [(2, 3, 128, 128)].\n",
      "[INFO] Convolution - Appending results to /home/ubuntu/tc_composer/options/Convolution_Tesla_V100-SXM2-16GB\n"
     ]
    }
   ],
   "source": [
    "option = tc_conv.tune_options(inputs=[tc_image], tuner_config=tc.TunerConfig().pop_size(150).generations(7).mutation_rate(8).number_elites(30).crossover_rate(30))"
   ]
  },
  {
   "cell_type": "code",
   "execution_count": 6,
   "metadata": {},
   "outputs": [
    {
     "name": "stderr",
     "output_type": "stream",
     "text": [
      "[INFO] Convolution - Loading start options from file - /home/ubuntu/tc_composer/options/Convolution_Tesla_V100-SXM2-16GB\n",
      "[INFO] Convolution - Option loaded from file for input shape - [(2, 3, 128, 128)].\n",
      "[INFO] Convolution - Appending results to /home/ubuntu/tc_composer/options/Convolution_Tesla_V100-SXM2-16GB\n"
     ]
    }
   ],
   "source": [
    "option = tc_conv.tune_options(inputs=[tc_image], tuner_config=tc.TunerConfig().pop_size(150).generations(7).mutation_rate(7).number_elites(30))"
   ]
  },
  {
   "cell_type": "code",
   "execution_count": 7,
   "metadata": {},
   "outputs": [
    {
     "name": "stdout",
     "output_type": "stream",
     "text": [
      "generic_mapping_options {\n",
      "  outer_schedule_options {\n",
      "    fusion_strategy: Max\n",
      "    allow_skewing: false\n",
      "    positive_orthant: true\n",
      "  }\n",
      "  intra_tile_schedule_options {\n",
      "    fusion_strategy: Preserve3Coincident\n",
      "    allow_skewing: false\n",
      "    positive_orthant: true\n",
      "  }\n",
      "  fix_parameters_before_scheduling: false\n",
      "  tiling {\n",
      "    sizes: 32\n",
      "    sizes: 1\n",
      "    sizes: 1\n",
      "    sizes: 128\n",
      "    sizes: 32\n",
      "  }\n",
      "  unroll: 32\n",
      "  tile_imperfectly_nested: false\n",
      "  match_library_calls: true\n",
      "}\n",
      "block {\n",
      "  x: 256\n",
      "  y: 2\n",
      "  z: 1\n",
      "}\n",
      "grid {\n",
      "  x: 1\n",
      "  y: 256\n",
      "  z: 64\n",
      "}\n",
      "use_shared_memory: false\n",
      "use_private_memory: true\n",
      "unroll_copy_shared: false\n",
      "use_readonly_cache: false\n",
      "private_depth: 4\n",
      "shared_depth: 5\n",
      "\n"
     ]
    }
   ],
   "source": [
    "print(option)"
   ]
  },
  {
   "cell_type": "code",
   "execution_count": 8,
   "metadata": {},
   "outputs": [
    {
     "name": "stderr",
     "output_type": "stream",
     "text": [
      "[INFO] Convolution - Compiling for input shape - [(2, 3, 128, 128)].\n"
     ]
    }
   ],
   "source": [
    "tc_conv.recompile(tc_image, option=option)"
   ]
  },
  {
   "cell_type": "markdown",
   "metadata": {},
   "source": [
    "# Correctness"
   ]
  },
  {
   "cell_type": "code",
   "execution_count": 9,
   "metadata": {},
   "outputs": [],
   "source": [
    "torch_conv = Conv2d(in_channels*groups, out_channels*groups, kernel_size, padding=padding, stride=stride, groups=groups)\n",
    "\n",
    "for p0, p1 in zip(torch_conv.parameters(), tc_conv.params):\n",
    "    p0.data = p1.data"
   ]
  },
  {
   "cell_type": "code",
   "execution_count": 10,
   "metadata": {},
   "outputs": [],
   "source": [
    "import numpy as np\n",
    "\n",
    "np.testing.assert_allclose(tc_conv(tc_image).data, torch_conv(tc_image).data, rtol=1e-4, atol=1e-4)"
   ]
  },
  {
   "cell_type": "markdown",
   "metadata": {},
   "source": [
    "# Benchmark"
   ]
  },
  {
   "cell_type": "code",
   "execution_count": 19,
   "metadata": {},
   "outputs": [],
   "source": [
    "import time\n",
    "from matplotlib import pyplot as plt\n",
    "import matplotlib\n",
    "matplotlib.interactive(False)\n",
    "\n",
    "\n",
    "def mytime(iters, runFun, *args):\n",
    "    synchronize = torch.cuda.synchronize\n",
    "    \n",
    "    timesCPU = []\n",
    "    timesCPUAndGPU = []\n",
    "    for i in range(iters):\n",
    "        synchronize()\n",
    "        start = time.perf_counter()\n",
    "        runFun(*args)\n",
    "        timesCPU.append(time.perf_counter() - start)\n",
    "        synchronize()\n",
    "        timesCPUAndGPU.append(time.perf_counter() - start)\n",
    "    \n",
    "    timesCPU = sorted(timesCPU)\n",
    "    \n",
    "    timesCPUAndGPU = sorted(timesCPUAndGPU)\n",
    "    \n",
    "    print(\"CPU:\\t\\tmin {}us,\\tp50 {}us,\\tp90 {}us,\\tmax {}us\".format(\n",
    "        int(timesCPU[0] * 1e6),\n",
    "        int(timesCPU[int(len(timesCPU) // 2)] * 1e6),\n",
    "        int(timesCPU[int((len(timesCPU) * 9) // 10)] * 1e6),\n",
    "        int(timesCPU[len(timesCPU) - 1] * 1e6),\n",
    "    ))\n",
    "    print(\"CPU + GPU:\\tmin {}us,\\tp50 {}us,\\tp90 {}us,\\tmax {}us\".format(\n",
    "        int(timesCPUAndGPU[0] * 1e6),\n",
    "        int(timesCPUAndGPU[int(len(timesCPUAndGPU) // 2)] * 1e6),\n",
    "        int(timesCPUAndGPU[int((len(timesCPUAndGPU) * 9) // 10)] * 1e6),\n",
    "        int(timesCPUAndGPU[len(timesCPUAndGPU) - 1] * 1e6),\n",
    "    ))\n",
    "    \n",
    "    fig = plt.figure(figsize=(10, 6))\n",
    "    ax = fig.add_subplot(1, 1, 1)\n",
    "    ax.hist(timesCPU[:-len(timesCPU)//200], label='CPU', bins='fd')\n",
    "    ax.hist(timesCPUAndGPU[:-len(timesCPUAndGPU)//200], label='CPU&GPU', bins='fd')\n",
    "    ax.legend(loc='upper right')\n",
    "    ax.set_xscale('log')\n",
    "    ax.set_yscale('log')\n",
    "    ax.set_xlabel('seconds')\n",
    "    ax.set_ylabel('frequency')\n",
    "    fig.show()\n",
    "        "
   ]
  },
  {
   "cell_type": "code",
   "execution_count": 23,
   "metadata": {
    "scrolled": false
   },
   "outputs": [
    {
     "name": "stdout",
     "output_type": "stream",
     "text": [
      "CPU:\t\tmin 123us,\tp50 125us,\tp90 127us,\tmax 548us\n",
      "CPU + GPU:\tmin 187us,\tp50 189us,\tp90 192us,\tmax 616us\n"
     ]
    },
    {
     "name": "stderr",
     "output_type": "stream",
     "text": [
      "/home/ubuntu/anaconda3/envs/tc/lib/python3.6/site-packages/matplotlib/figure.py:459: UserWarning: matplotlib is currently using a non-GUI backend, so cannot show the figure\n",
      "  \"matplotlib is currently using a non-GUI backend, \"\n"
     ]
    },
    {
     "data": {
      "image/png": "[encoded data removed]",
      "text/plain": [
       "<Figure size 720x432 with 1 Axes>"
      ]
     },
     "metadata": {},
     "output_type": "display_data"
    }
   ],
   "source": [
    "mytime(100000, lambda: tc_conv(torch.randn(batch_size, in_channels, in_height, in_width)))"
   ]
  },
  {
   "cell_type": "code",
   "execution_count": 24,
   "metadata": {},
   "outputs": [
    {
     "name": "stdout",
     "output_type": "stream",
     "text": [
      "CPU:\t\tmin 81us,\tp50 83us,\tp90 84us,\tmax 494us\n",
      "CPU + GPU:\tmin 119us,\tp50 121us,\tp90 123us,\tmax 509us\n"
     ]
    },
    {
     "name": "stderr",
     "output_type": "stream",
     "text": [
      "/home/ubuntu/anaconda3/envs/tc/lib/python3.6/site-packages/matplotlib/figure.py:459: UserWarning: matplotlib is currently using a non-GUI backend, so cannot show the figure\n",
      "  \"matplotlib is currently using a non-GUI backend, \"\n"
     ]
    },
    {
     "data": {
      "image/png": "[encoded data removed]",
      "text/plain": [
       "<Figure size 720x432 with 1 Axes>"
      ]
     },
     "metadata": {},
     "output_type": "display_data"
    }
   ],
   "source": [
    "mytime(100000, lambda: torch_conv.forward(torch.randn(batch_size, in_channels, in_height, in_width)))"
   ]
  }
 ],
 "metadata": {
  "kernelspec": {
   "display_name": "Python 3",
   "language": "python",
   "name": "python3"
  },
  "language_info": {
   "codemirror_mode": {
    "name": "ipython",
    "version": 3
   },
   "file_extension": ".py",
   "mimetype": "text/x-python",
   "name": "python",
   "nbconvert_exporter": "python",
   "pygments_lexer": "ipython3",
   "version": "3.6.5"
  }
 },
 "nbformat": 4,
 "nbformat_minor": 2
}
