{
 "cells": [
  {
   "cell_type": "code",
   "execution_count": 1,
   "metadata": {
    "scrolled": true
   },
   "outputs": [
    {
     "name": "stderr",
     "output_type": "stream",
     "text": [
      "[INFO] tc_composer.settings - Setting default tensor type: torch.cuda.FloatTensor\n",
      "[INFO] tc_composer.settings - Setting epsilon: 1e-16\n",
      "[INFO] tc_composer.settings - Input tensor shape checking: False\n",
      "[INFO] tc_composer.settings - Saving compiled options in: /home/ubuntu/tc_composer/options\n"
     ]
    }
   ],
   "source": [
    "import tensor_comprehensions as tc\n",
    "import torch\n",
    "import tc_composer\n",
    "from torch.nn import Conv2d\n",
    "from tc_composer.implementation import AlexNetConv0, AlexNetConv1, AlexNetConv2, AlexNetConv3, AlexNetConv4, AlexNetConv5, AlexNetConv6, AlexNetConv7"
   ]
  },
  {
   "cell_type": "markdown",
   "metadata": {},
   "source": [
    "# AlexNet\n",
    "Implementing https://github.com/pytorch/vision/blob/master/torchvision/models/alexnet.py"
   ]
  },
  {
   "cell_type": "code",
   "execution_count": 2,
   "metadata": {},
   "outputs": [],
   "source": [
    "num_classes = 1000"
   ]
  },
  {
   "cell_type": "code",
   "execution_count": 3,
   "metadata": {},
   "outputs": [],
   "source": [
    "batch_size = 1\n",
    "in_channels, in_height, in_width = 3, 227, 227\n",
    "tc_inp = tc_image = torch.randn(batch_size, in_channels, in_height, in_width)"
   ]
  },
  {
   "cell_type": "code",
   "execution_count": 4,
   "metadata": {},
   "outputs": [],
   "source": [
    "Layers = (AlexNetConv0, AlexNetConv1, AlexNetConv2, AlexNetConv3, AlexNetConv4, AlexNetConv5, AlexNetConv6, AlexNetConv7)\n",
    "layers = tuple(l() for l in Layers)"
   ]
  },
  {
   "cell_type": "code",
   "execution_count": 5,
   "metadata": {},
   "outputs": [
    {
     "name": "stderr",
     "output_type": "stream",
     "text": [
      "[INFO] AlexNetConv0 - Compiling for input shape - [(1, 3, 227, 227)].\n",
      "[WARNING] AlexNetConv0 - No option loaded from file for input shape - [(1, 3, 227, 227)].\n",
      "[WARNING] AlexNetConv0 - Initializing naive options.\n",
      "[INFO] AlexNetConv1 - Compiling for input shape - [(1, 64, 56, 56)].\n",
      "[WARNING] AlexNetConv1 - No option loaded from file for input shape - [(1, 64, 56, 56)].\n",
      "[WARNING] AlexNetConv1 - Initializing naive options.\n",
      "[INFO] AlexNetConv2 - Compiling for input shape - [(1, 64, 27, 27)].\n",
      "[WARNING] AlexNetConv2 - No option loaded from file for input shape - [(1, 64, 27, 27)].\n",
      "[WARNING] AlexNetConv2 - Initializing naive options.\n",
      "[INFO] AlexNetConv3 - Compiling for input shape - [(1, 192, 27, 27)].\n",
      "[WARNING] AlexNetConv3 - No option loaded from file for input shape - [(1, 192, 27, 27)].\n",
      "[WARNING] AlexNetConv3 - Initializing naive options.\n",
      "[INFO] AlexNetConv4 - Compiling for input shape - [(1, 192, 13, 13)].\n",
      "[WARNING] AlexNetConv4 - No option loaded from file for input shape - [(1, 192, 13, 13)].\n",
      "[WARNING] AlexNetConv4 - Initializing naive options.\n",
      "[INFO] AlexNetConv5 - Compiling for input shape - [(1, 384, 13, 13)].\n",
      "[WARNING] AlexNetConv5 - No option loaded from file for input shape - [(1, 384, 13, 13)].\n",
      "[WARNING] AlexNetConv5 - Initializing naive options.\n",
      "[INFO] AlexNetConv6 - Compiling for input shape - [(1, 256, 13, 13)].\n",
      "[WARNING] AlexNetConv6 - No option loaded from file for input shape - [(1, 256, 13, 13)].\n",
      "[WARNING] AlexNetConv6 - Initializing naive options.\n",
      "[INFO] AlexNetConv7 - Compiling for input shape - [(1, 256, 13, 13)].\n",
      "[WARNING] AlexNetConv7 - No option loaded from file for input shape - [(1, 256, 13, 13)].\n",
      "[WARNING] AlexNetConv7 - Initializing naive options.\n"
     ]
    }
   ],
   "source": [
    "def compile_():\n",
    "    inp = tc_inp\n",
    "    for l in layers:\n",
    "        l.recompile(inp)\n",
    "        inp = l(inp)\n",
    "\n",
    "compile_()"
   ]
  },
  {
   "cell_type": "markdown",
   "metadata": {},
   "source": [
    "# Correctness"
   ]
  },
  {
   "cell_type": "code",
   "execution_count": 6,
   "metadata": {},
   "outputs": [
    {
     "data": {
      "text/plain": [
       "AlexNet(\n",
       "  (features): Sequential(\n",
       "    (0): Conv2d(3, 64, kernel_size=(11, 11), stride=(4, 4), padding=(2, 2))\n",
       "    (1): ReLU(inplace)\n",
       "    (2): MaxPool2d(kernel_size=3, stride=2, padding=0, dilation=1, ceil_mode=False)\n",
       "    (3): Conv2d(64, 192, kernel_size=(5, 5), stride=(1, 1), padding=(2, 2))\n",
       "    (4): ReLU(inplace)\n",
       "    (5): MaxPool2d(kernel_size=3, stride=2, padding=0, dilation=1, ceil_mode=False)\n",
       "    (6): Conv2d(192, 384, kernel_size=(3, 3), stride=(1, 1), padding=(1, 1))\n",
       "    (7): ReLU(inplace)\n",
       "    (8): Conv2d(384, 256, kernel_size=(3, 3), stride=(1, 1), padding=(1, 1))\n",
       "    (9): ReLU(inplace)\n",
       "    (10): Conv2d(256, 256, kernel_size=(3, 3), stride=(1, 1), padding=(1, 1))\n",
       "    (11): ReLU(inplace)\n",
       "    (12): MaxPool2d(kernel_size=3, stride=2, padding=0, dilation=1, ceil_mode=False)\n",
       "  )\n",
       "  (classifier): Sequential(\n",
       "    (0): Dropout(p=0.5)\n",
       "    (1): Linear(in_features=9216, out_features=4096, bias=True)\n",
       "    (2): ReLU(inplace)\n",
       "    (3): Dropout(p=0.5)\n",
       "    (4): Linear(in_features=4096, out_features=4096, bias=True)\n",
       "    (5): ReLU(inplace)\n",
       "    (6): Linear(in_features=4096, out_features=1000, bias=True)\n",
       "  )\n",
       ")"
      ]
     },
     "execution_count": 6,
     "metadata": {},
     "output_type": "execute_result"
    }
   ],
   "source": [
    "from torchvision.models import AlexNet\n",
    "\n",
    "torch_alex_net = AlexNet()\n",
    "torch_alex_net.train(False)  # Disable dropout"
   ]
  },
  {
   "cell_type": "code",
   "execution_count": 7,
   "metadata": {},
   "outputs": [],
   "source": [
    "from itertools import chain\n",
    "\n",
    "for p, p1 in zip(torch_alex_net.features.parameters(), chain(*(l.params for l in layers))):\n",
    "    p.data = p1.data"
   ]
  },
  {
   "cell_type": "code",
   "execution_count": 8,
   "metadata": {},
   "outputs": [],
   "source": [
    "def run(inp):\n",
    "    out = inp\n",
    "    for l in layers:\n",
    "        out = l(out)\n",
    "    return out"
   ]
  },
  {
   "cell_type": "code",
   "execution_count": 9,
   "metadata": {},
   "outputs": [],
   "source": [
    "import numpy as np\n",
    "\n",
    "np.testing.assert_allclose(run(tc_inp).data, torch_alex_net.features(tc_inp).data, rtol=1e-4)"
   ]
  }
 ],
 "metadata": {
  "kernelspec": {
   "display_name": "Python 3",
   "language": "python",
   "name": "python3"
  },
  "language_info": {
   "codemirror_mode": {
    "name": "ipython",
    "version": 3
   },
   "file_extension": ".py",
   "mimetype": "text/x-python",
   "name": "python",
   "nbconvert_exporter": "python",
   "pygments_lexer": "ipython3",
   "version": "3.6.5"
  }
 },
 "nbformat": 4,
 "nbformat_minor": 2
}
