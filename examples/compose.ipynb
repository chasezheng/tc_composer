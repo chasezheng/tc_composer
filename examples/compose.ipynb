{
 "cells": [
  {
   "cell_type": "code",
   "execution_count": 1,
   "metadata": {
    "scrolled": false
   },
   "outputs": [
    {
     "name": "stderr",
     "output_type": "stream",
     "text": [
      "[INFO] tc_composer.settings - Setting default tensor type: torch.cuda.FloatTensor\n",
      "[INFO] tc_composer.settings - Setting epsilon: 1e-16\n",
      "[INFO] tc_composer.settings - Input tensor shape checking: False\n",
      "[INFO] tc_composer.settings - Saving compiled options in: /home/ubuntu/tc_composer/options\n"
     ]
    }
   ],
   "source": [
    "import torch\n",
    "from torch import nn\n",
    "from tc_composer.func.activation import Activation, Softmax\n",
    "from tc_composer.func.affine_transform import AffineTransform\n",
    "from tc_composer.func.function_with_params import Composition"
   ]
  },
  {
   "cell_type": "code",
   "execution_count": 2,
   "metadata": {},
   "outputs": [],
   "source": [
    "batch_size = 2\n",
    "in_n = 3\n",
    "hidden = 5\n",
    "out_n = 7\n",
    "\n",
    "inp = torch.randn(batch_size, in_n)"
   ]
  },
  {
   "cell_type": "markdown",
   "metadata": {},
   "source": [
    "## Compose"
   ]
  },
  {
   "cell_type": "code",
   "execution_count": 3,
   "metadata": {
    "scrolled": false
   },
   "outputs": [
    {
     "name": "stdout",
     "output_type": "stream",
     "text": [
      "def Composition(\n",
      "    float(I,3) input,\n",
      "    float(5,3) weight,\n",
      "    float(5) bias,\n",
      "    float(7,5) weight1,\n",
      "    float(7) bias1\n",
      ") -> (max_val, translated, l1norm, output, output1, output2, output3)\n",
      "{\n",
      "    output(b, n) +=! input(b, i) * weight(n, i)\n",
      "    output(b, n) = output(b, n) + bias(n)\n",
      "    \n",
      "    max_val(n) max=! output(n, d)\n",
      "    translated(n, d) = exp(output(n, d) - max_val(n))\n",
      "    l1norm(n) +=! translated(n, d)\n",
      "    output1(n, d) = translated(n, d) / l1norm(n)\n",
      "    \n",
      "    output2(b, n) +=! output1(b, i) * weight1(n, i)\n",
      "    output2(b, n) = output2(b, n) + bias1(n)\n",
      "    \n",
      "    output3(b, i) = fmax(output2(b, i), 0)\n",
      "    \n",
      "}\n"
     ]
    }
   ],
   "source": [
    "affine0 = AffineTransform(in_n=in_n, out_n=hidden)\n",
    "softmax = Softmax()\n",
    "affine1 = AffineTransform(in_n=hidden, out_n=out_n)\n",
    "relu = Activation('relu')\n",
    "\n",
    "comp = Composition(affine0, softmax, affine1, relu)\n",
    "print(comp.tc_def)"
   ]
  },
  {
   "cell_type": "code",
   "execution_count": 4,
   "metadata": {},
   "outputs": [
    {
     "name": "stderr",
     "output_type": "stream",
     "text": [
      "[INFO] Composition - Compiling for input shape - [(2, 3)].\n",
      "[WARNING] Composition - No option loaded from file for input shape - [(2, 3)].\n",
      "[WARNING] Composition - Initializing naive options.\n"
     ]
    }
   ],
   "source": [
    "comp.recompile(inp)"
   ]
  },
  {
   "cell_type": "markdown",
   "metadata": {},
   "source": [
    "## Pytorch"
   ]
  },
  {
   "cell_type": "code",
   "execution_count": 5,
   "metadata": {},
   "outputs": [],
   "source": [
    "torch_f = nn.Sequential(\n",
    "    nn.Linear(in_features=in_n, out_features=hidden),\n",
    "    nn.Softmax(dim=-1),\n",
    "    nn.Linear(in_features=hidden, out_features=out_n),\n",
    "    nn.ReLU()\n",
    ")"
   ]
  },
  {
   "cell_type": "markdown",
   "metadata": {},
   "source": [
    "## Correctness"
   ]
  },
  {
   "cell_type": "code",
   "execution_count": 6,
   "metadata": {},
   "outputs": [],
   "source": [
    "for p, (name, tensor) in zip(torch_f.parameters(), comp.named_params):\n",
    "        p.data = tensor.detach().view_as(p)"
   ]
  },
  {
   "cell_type": "code",
   "execution_count": 7,
   "metadata": {},
   "outputs": [],
   "source": [
    "import numpy as np\n",
    "\n",
    "np.testing.assert_allclose(\n",
    "    comp(inp).cpu().detach().numpy(),\n",
    "    torch_f(inp).cpu().detach().numpy(),\n",
    "    rtol=1e-4\n",
    ")"
   ]
  },
  {
   "cell_type": "markdown",
   "metadata": {},
   "source": [
    "## More ways to do it"
   ]
  },
  {
   "cell_type": "code",
   "execution_count": 8,
   "metadata": {},
   "outputs": [
    {
     "name": "stdout",
     "output_type": "stream",
     "text": [
      "def Composition(\n",
      "    float(I,3) input,\n",
      "    float(5,3) weight,\n",
      "    float(5) bias,\n",
      "    float(7,5) weight1,\n",
      "    float(7) bias1\n",
      ") -> (max_val, translated, l1norm, output, output1, output2, output3)\n",
      "{\n",
      "    output(b, n) +=! input(b, i) * weight(n, i)\n",
      "    output(b, n) = output(b, n) + bias(n)\n",
      "    \n",
      "    max_val(n) max=! output(n, d)\n",
      "    translated(n, d) = exp(output(n, d) - max_val(n))\n",
      "    l1norm(n) +=! translated(n, d)\n",
      "    output1(n, d) = translated(n, d) / l1norm(n)\n",
      "    \n",
      "    output2(b, n) +=! output1(b, i) * weight1(n, i)\n",
      "    output2(b, n) = output2(b, n) + bias1(n)\n",
      "    \n",
      "    output3(b, i) = fmax(output2(b, i), 0)\n",
      "    \n",
      "}\n"
     ]
    }
   ],
   "source": [
    "lshift = affine0 << softmax << affine1 << relu\n",
    "assert lshift.tc_def == comp.tc_def\n",
    "print(lshift.tc_def)"
   ]
  },
  {
   "cell_type": "code",
   "execution_count": 9,
   "metadata": {},
   "outputs": [
    {
     "name": "stderr",
     "output_type": "stream",
     "text": [
      "[INFO] Composition - Compiling for input shape - [(2, 3)].\n",
      "[WARNING] Composition - No option loaded from file for input shape - [(2, 3)].\n",
      "[WARNING] Composition - Initializing naive options.\n"
     ]
    }
   ],
   "source": [
    "lshift.recompile(inp)"
   ]
  },
  {
   "cell_type": "code",
   "execution_count": 10,
   "metadata": {},
   "outputs": [],
   "source": [
    "np.testing.assert_allclose(\n",
    "    lshift(inp).cpu().detach().numpy(),\n",
    "    torch_f(inp).cpu().detach().numpy(),\n",
    "    rtol=1e-4\n",
    ")"
   ]
  }
 ],
 "metadata": {
  "kernelspec": {
   "display_name": "Python 3",
   "language": "python",
   "name": "python3"
  },
  "language_info": {
   "codemirror_mode": {
    "name": "ipython",
    "version": 3
   },
   "file_extension": ".py",
   "mimetype": "text/x-python",
   "name": "python",
   "nbconvert_exporter": "python",
   "pygments_lexer": "ipython3",
   "version": "3.6.5"
  }
 },
 "nbformat": 4,
 "nbformat_minor": 1
}
