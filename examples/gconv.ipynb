{
 "cells": [
  {
   "cell_type": "code",
   "execution_count": 1,
   "metadata": {
    "scrolled": false
   },
   "outputs": [
    {
     "name": "stderr",
     "output_type": "stream",
     "text": [
      "[INFO] tc_composer.settings - Setting default tensor type: torch.cuda.FloatTensor\n",
      "[INFO] tc_composer.settings - Setting epsilon: 1e-16\n",
      "[INFO] tc_composer.settings - Input tensor shape checking: False\n",
      "[INFO] tc_composer.settings - Saving compiled options in: /home/ubuntu/tc_composer/options\n"
     ]
    }
   ],
   "source": [
    "import tensor_comprehensions as tc\n",
    "import torch\n",
    "import tc_composer\n",
    "from torch.nn import Conv2d\n",
    "from tc_composer.func.conv import Convolution"
   ]
  },
  {
   "cell_type": "markdown",
   "metadata": {},
   "source": [
    "# gconv"
   ]
  },
  {
   "cell_type": "code",
   "execution_count": 2,
   "metadata": {},
   "outputs": [],
   "source": [
    "def make_convs(N, G, F, C, W, H):\n",
    "    in_channels = C\n",
    "    out_channels = F\n",
    "    kernel_size = (H//2, W//2)\n",
    "    stride=(1, 1)\n",
    "    padding=(0, 0)\n",
    "    groups = G\n",
    "\n",
    "    batch_size = N\n",
    "    in_height = H\n",
    "    in_width = W \n",
    "\n",
    "    tc_image = torch.randn(batch_size, groups, in_channels, in_height, in_width)\n",
    "    tc_conv = Convolution(in_channels=in_channels, out_channels=out_channels, kernel_size=kernel_size, padding=padding, groups=G)\n",
    "    \n",
    "    # pytorch conv\n",
    "    torch_image = tc_image.view(batch_size, in_channels * groups, in_height, in_width)\n",
    "    torch_conv = Conv2d(in_channels*groups, out_channels*groups, kernel_size, padding=padding, stride=stride, groups=groups)\n",
    "    torch_conv.weight.data, torch_conv.bias.data = tc_conv.params[0].data.view_as(torch_conv.weight), \\\n",
    "                                               tc_conv.params[1].data.view_as(torch_conv.bias)\n",
    "    \n",
    "    return tc_conv, tc_image, torch_conv, torch_image"
   ]
  },
  {
   "cell_type": "markdown",
   "metadata": {},
   "source": [
    "# Round 0"
   ]
  },
  {
   "cell_type": "code",
   "execution_count": 3,
   "metadata": {
    "scrolled": true
   },
   "outputs": [],
   "source": [
    "tc_conv0, tc_image0, torch_conv0, torch_image0 = make_convs(32, 32, 16, 16, 14, 14)"
   ]
  },
  {
   "cell_type": "code",
   "execution_count": 4,
   "metadata": {},
   "outputs": [
    {
     "name": "stdout",
     "output_type": "stream",
     "text": [
      "def Convolution(\n",
      "    float(32, 32, 16, 14, 14) input,\n",
      "    float(32, 16, 16, 7, 7) weight,\n",
      "    float(32, 16) bias\n",
      ") -> (\n",
      "    float(32, 32, 16, 7, 7) output\n",
      ")\n",
      "{\n",
      "    output(n, g, m, h, w) +=! input(n, g, c, h + kh, w + kw) * weight(g, m, c, kh, kw) \n",
      "        where kh in 0:7, kw in 0:7, h in 0:8, w in 0:8\n",
      "    output(n, g, m, h, w) = output(n, g, m, h, w) + bias(g, m)\n",
      "         where h in 0:8, w in 0:8\n",
      "}\n"
     ]
    }
   ],
   "source": [
    "print(tc_conv0.tc_def(tc_image0))"
   ]
  },
  {
   "cell_type": "code",
   "execution_count": 33,
   "metadata": {},
   "outputs": [
    {
     "name": "stderr",
     "output_type": "stream",
     "text": [
      "[INFO] Convolution - Compiling for input shape - [(32, 32, 16, 14, 14)].\n"
     ]
    }
   ],
   "source": [
    "option0 = None\n",
    "option0 = tc_conv0.tune_options([tc_image0],\n",
    "                              start_option=option0,\n",
    "                              tuner_config = tc.TunerConfig().pop_size(150).generations(7).mutation_rate(8).number_elites(30).crossover_rate(40))\n",
    "option0 = tc_conv0.tune_options([tc_image0],\n",
    "                              start_option=option0,\n",
    "                              tuner_config = tc.TunerConfig().pop_size(150).generations(7).mutation_rate(8).number_elites(30).crossover_rate(20))\n",
    "option0 = tc_conv0.tune_options([tc_image0],\n",
    "                              start_option=option0,\n",
    "                              tuner_config = tc.TunerConfig().pop_size(150).generations(3).mutation_rate(8).number_elites(30).crossover_rate(5))\n",
    "tc_conv0.recompile(tc_image0, option=option0)"
   ]
  },
  {
   "cell_type": "code",
   "execution_count": 73,
   "metadata": {},
   "outputs": [
    {
     "name": "stdout",
     "output_type": "stream",
     "text": [
      "generic_mapping_options {\n",
      "  outer_schedule_options {\n",
      "    fusion_strategy: Max\n",
      "    allow_skewing: false\n",
      "    positive_orthant: true\n",
      "  }\n",
      "  intra_tile_schedule_options {\n",
      "    fusion_strategy: Max\n",
      "    allow_skewing: false\n",
      "    positive_orthant: true\n",
      "  }\n",
      "  fix_parameters_before_scheduling: true\n",
      "  tiling {\n",
      "    sizes: 1\n",
      "    sizes: 1\n",
      "    sizes: 1\n",
      "    sizes: 32\n",
      "  }\n",
      "  unroll: 32\n",
      "  tile_imperfectly_nested: false\n",
      "  match_library_calls: true\n",
      "}\n",
      "block {\n",
      "  x: 8\n",
      "  y: 16\n",
      "}\n",
      "grid {\n",
      "  x: 64\n",
      "  y: 64\n",
      "  z: 14\n",
      "}\n",
      "use_shared_memory: true\n",
      "use_private_memory: false\n",
      "unroll_copy_shared: true\n",
      "use_readonly_cache: false\n",
      "\n"
     ]
    }
   ],
   "source": [
    "print(option0)"
   ]
  },
  {
   "cell_type": "markdown",
   "metadata": {},
   "source": [
    "# Benchmark"
   ]
  },
  {
   "cell_type": "code",
   "execution_count": 42,
   "metadata": {},
   "outputs": [],
   "source": [
    "import time\n",
    "# Define a timing function to print some results\n",
    "def time_tc(iters, prepend, runFun, *args):\n",
    "    timesCPU = []\n",
    "    timesCPUAndGPU = []\n",
    "    for i in range(iters):\n",
    "        torch.cuda.synchronize()\n",
    "        start = time.clock()\n",
    "        outputs = runFun(*args)\n",
    "        timesCPU.append(time.clock() - start)\n",
    "        torch.cuda.synchronize()\n",
    "        timesCPUAndGPU.append(time.clock() - start)\n",
    "    print(\"#################################################################\")\n",
    "    timesCPU = sorted(timesCPU)\n",
    "    print(\"{} Total CPU time to launch kernel: min {}us, p50 {}us, p90 {}us, max {}us\".format(\n",
    "        prepend,\n",
    "        int(timesCPU[0] * 1e6),\n",
    "        int(timesCPU[int(len(timesCPU) // 2)] * 1e6),\n",
    "        int(timesCPU[int((len(timesCPU) * 9) // 10)] * 1e6),\n",
    "        int(timesCPU[len(timesCPU) - 1] * 1e6),\n",
    "    ))\n",
    "    timesCPUAndGPU = sorted(timesCPUAndGPU)\n",
    "    print(\"{} Total CPU launch + GPU kernel time: min {}us, p50 {}us, p90 {}us, max {}us\".format(\n",
    "        prepend,\n",
    "        int(timesCPUAndGPU[0] * 1e6),\n",
    "        int(timesCPUAndGPU[int(len(timesCPUAndGPU) // 2)] * 1e6),\n",
    "        int(timesCPUAndGPU[int((len(timesCPUAndGPU) * 9) // 10)] * 1e6),\n",
    "        int(timesCPUAndGPU[len(timesCPUAndGPU) - 1] * 1e6),\n",
    "    ))"
   ]
  },
  {
   "cell_type": "code",
   "execution_count": 82,
   "metadata": {
    "scrolled": true
   },
   "outputs": [
    {
     "name": "stdout",
     "output_type": "stream",
     "text": [
      "#################################################################\n",
      "raw unchecked_run tuned options\t Total CPU time to launch kernel: min 97us, p50 99us, p90 104us, max 532us\n",
      "raw unchecked_run tuned options\t Total CPU launch + GPU kernel time: min 723us, p50 736us, p90 740us, max 1211us\n"
     ]
    }
   ],
   "source": [
    "time_tc(10000,\n",
    "        \"raw unchecked_run tuned options\\t\",\n",
    "        tc_conv0, tc_image0)"
   ]
  },
  {
   "cell_type": "code",
   "execution_count": 57,
   "metadata": {},
   "outputs": [],
   "source": [
    "torch_conv0 = torch_conv0.cuda()"
   ]
  },
  {
   "cell_type": "code",
   "execution_count": 58,
   "metadata": {
    "scrolled": true
   },
   "outputs": [
    {
     "name": "stdout",
     "output_type": "stream",
     "text": [
      "#################################################################\n",
      "stock\t Total CPU time to launch kernel: min 871us, p50 881us, p90 901us, max 1758us\n",
      "stock\t Total CPU launch + GPU kernel time: min 963us, p50 1064us, p90 1084us, max 1889us\n"
     ]
    }
   ],
   "source": [
    "time_tc(10000,\n",
    "        \"stock\\t\",\n",
    "        torch_conv0.forward,\n",
    "        torch_image0)"
   ]
  },
  {
   "cell_type": "markdown",
   "metadata": {},
   "source": [
    "# Round 1"
   ]
  },
  {
   "cell_type": "code",
   "execution_count": 74,
   "metadata": {},
   "outputs": [
    {
     "name": "stdout",
     "output_type": "stream",
     "text": [
      "generic_mapping_options {\n",
      "  outer_schedule_options {\n",
      "    fusion_strategy: Max\n",
      "    allow_skewing: false\n",
      "    positive_orthant: true\n",
      "  }\n",
      "  intra_tile_schedule_options {\n",
      "    fusion_strategy: Max\n",
      "    allow_skewing: false\n",
      "    positive_orthant: true\n",
      "  }\n",
      "  fix_parameters_before_scheduling: true\n",
      "  tiling {\n",
      "    sizes: 1\n",
      "    sizes: 1\n",
      "    sizes: 1\n",
      "    sizes: 32\n",
      "  }\n",
      "  unroll: 32\n",
      "  tile_imperfectly_nested: false\n",
      "  match_library_calls: true\n",
      "}\n",
      "block {\n",
      "  x: 8\n",
      "  y: 16\n",
      "}\n",
      "grid {\n",
      "  x: 64\n",
      "  y: 64\n",
      "  z: 256\n",
      "}\n",
      "use_shared_memory: true\n",
      "use_private_memory: false\n",
      "unroll_copy_shared: true\n",
      "use_readonly_cache: false\n",
      "\n"
     ]
    }
   ],
   "source": [
    "print(option0.mapToBlocks((64, 64, 256)))"
   ]
  },
  {
   "cell_type": "code",
   "execution_count": 60,
   "metadata": {},
   "outputs": [],
   "source": [
    "tc_conv1, tc_image1, torch_conv1, torch_image1 = make_convs(32, 32, 32, 32, 7, 7)"
   ]
  },
  {
   "cell_type": "code",
   "execution_count": 75,
   "metadata": {},
   "outputs": [
    {
     "name": "stderr",
     "output_type": "stream",
     "text": [
      "[INFO] Convolution - Appending results to /home/ubuntu/tc_composer/options/Convolution_Tesla_V100-SXM2-16GB\n",
      "[INFO] Convolution - Compiling for input shape - [(32, 32, 32, 7, 7)].\n"
     ]
    }
   ],
   "source": [
    "# TC Conv\n",
    "option1 = tc_conv1.tune_options([tc_image1], start_option=option0, tuner_config = tc.TunerConfig().pop_size(150).generations(5).mutation_rate(8).number_elites(30).crossover_rate(10))\n",
    "tc_conv1.recompile(tc_image1, option=option1)"
   ]
  },
  {
   "cell_type": "code",
   "execution_count": 76,
   "metadata": {},
   "outputs": [
    {
     "name": "stdout",
     "output_type": "stream",
     "text": [
      "#################################################################\n",
      "raw unchecked_run tuned options\t Total CPU time to launch kernel: min 97us, p50 99us, p90 103us, max 52478us\n",
      "raw unchecked_run tuned options\t Total CPU launch + GPU kernel time: min 307us, p50 318us, p90 334us, max 52530us\n"
     ]
    }
   ],
   "source": [
    "time_tc(10000,\n",
    "        \"raw unchecked_run tuned options\\t\",\n",
    "        tc_conv1, tc_image1)"
   ]
  },
  {
   "cell_type": "code",
   "execution_count": 63,
   "metadata": {},
   "outputs": [
    {
     "name": "stdout",
     "output_type": "stream",
     "text": [
      "#################################################################\n",
      "stock\t Total CPU time to launch kernel: min 281us, p50 288us, p90 297us, max 1212us\n",
      "stock\t Total CPU launch + GPU kernel time: min 486us, p50 512us, p90 518us, max 1366us\n"
     ]
    }
   ],
   "source": [
    "time_tc(10000,\n",
    "        \"stock\\t\",\n",
    "        torch_conv1.forward,\n",
    "        torch_image1)"
   ]
  },
  {
   "cell_type": "code",
   "execution_count": 77,
   "metadata": {},
   "outputs": [
    {
     "name": "stdout",
     "output_type": "stream",
     "text": [
      "generic_mapping_options {\n",
      "  outer_schedule_options {\n",
      "    fusion_strategy: Max\n",
      "    allow_skewing: false\n",
      "    positive_orthant: true\n",
      "  }\n",
      "  intra_tile_schedule_options {\n",
      "    fusion_strategy: Max\n",
      "    allow_skewing: false\n",
      "    positive_orthant: true\n",
      "  }\n",
      "  fix_parameters_before_scheduling: true\n",
      "  tiling {\n",
      "    sizes: 16\n",
      "    sizes: 1\n",
      "    sizes: 1\n",
      "    sizes: 32\n",
      "  }\n",
      "  unroll: 32\n",
      "  tile_imperfectly_nested: false\n",
      "  match_library_calls: true\n",
      "}\n",
      "block {\n",
      "  x: 8\n",
      "  y: 16\n",
      "}\n",
      "grid {\n",
      "  x: 64\n",
      "  y: 64\n",
      "  z: 256\n",
      "}\n",
      "use_shared_memory: true\n",
      "use_private_memory: false\n",
      "unroll_copy_shared: true\n",
      "use_readonly_cache: false\n",
      "\n"
     ]
    }
   ],
   "source": [
    "print(option1)"
   ]
  },
  {
   "cell_type": "markdown",
   "metadata": {},
   "source": [
    "# Round 3"
   ]
  },
  {
   "cell_type": "code",
   "execution_count": 89,
   "metadata": {
    "scrolled": true
   },
   "outputs": [
    {
     "name": "stderr",
     "output_type": "stream",
     "text": [
      "[INFO] Convolution - Appending results to /home/ubuntu/tc_composer/options/Convolution_Tesla_V100-SXM2-16GB\n",
      "[INFO] Convolution - Compiling for input shape - [(32, 32, 4, 56, 56)].\n"
     ]
    }
   ],
   "source": [
    "tc_conv2, tc_image2, torch_conv2, torch_image2 = make_convs(32, 32, 4, 4, 56, 56)\n",
    "option2 = tc_conv2.tune_options([tc_image2], start_option=option1, tuner_config = tc.TunerConfig().pop_size(150).generations(10).mutation_rate(8).number_elites(30).crossover_rate(40))\n",
    "tc_conv2.recompile(tc_image2, option=option2)"
   ]
  },
  {
   "cell_type": "code",
   "execution_count": 92,
   "metadata": {},
   "outputs": [
    {
     "name": "stdout",
     "output_type": "stream",
     "text": [
      "#################################################################\n",
      "raw unchecked_run tuned options\t Total CPU time to launch kernel: min 104us, p50 106us, p90 109us, max 514us\n",
      "raw unchecked_run tuned options\t Total CPU launch + GPU kernel time: min 9837us, p50 12439us, p90 12531us, max 14591us\n"
     ]
    }
   ],
   "source": [
    "time_tc(10000,\n",
    "        \"raw unchecked_run tuned options\\t\",\n",
    "        tc_conv2, tc_image2)"
   ]
  },
  {
   "cell_type": "code",
   "execution_count": 93,
   "metadata": {},
   "outputs": [
    {
     "name": "stdout",
     "output_type": "stream",
     "text": [
      "#################################################################\n",
      "stock\t Total CPU time to launch kernel: min 24462us, p50 24659us, p90 24754us, max 26766us\n",
      "stock\t Total CPU launch + GPU kernel time: min 34871us, p50 35171us, p90 35284us, max 36760us\n"
     ]
    }
   ],
   "source": [
    "time_tc(10000,\n",
    "        \"stock\\t\",\n",
    "        torch_conv2.forward,\n",
    "        torch_image2)"
   ]
  },
  {
   "cell_type": "code",
   "execution_count": 90,
   "metadata": {},
   "outputs": [
    {
     "name": "stdout",
     "output_type": "stream",
     "text": [
      "generic_mapping_options {\n",
      "  outer_schedule_options {\n",
      "    fusion_strategy: Max\n",
      "    allow_skewing: false\n",
      "    positive_orthant: true\n",
      "  }\n",
      "  intra_tile_schedule_options {\n",
      "    fusion_strategy: Max\n",
      "    allow_skewing: false\n",
      "    positive_orthant: true\n",
      "  }\n",
      "  fix_parameters_before_scheduling: false\n",
      "  tiling {\n",
      "    sizes: 1\n",
      "    sizes: 2\n",
      "    sizes: 1\n",
      "    sizes: 0\n",
      "  }\n",
      "  unroll: 4\n",
      "  tile_imperfectly_nested: false\n",
      "  match_library_calls: false\n",
      "}\n",
      "block {\n",
      "  x: 256\n",
      "}\n",
      "grid {\n",
      "  x: 56\n",
      "  y: 28\n",
      "  z: 64\n",
      "}\n",
      "use_shared_memory: false\n",
      "use_private_memory: true\n",
      "unroll_copy_shared: true\n",
      "use_readonly_cache: true\n",
      "\n"
     ]
    }
   ],
   "source": [
    "print(option2)"
   ]
  }
 ],
 "metadata": {
  "kernelspec": {
   "display_name": "Python 3",
   "language": "python",
   "name": "python3"
  },
  "language_info": {
   "codemirror_mode": {
    "name": "ipython",
    "version": 3
   },
   "file_extension": ".py",
   "mimetype": "text/x-python",
   "name": "python",
   "nbconvert_exporter": "python",
   "pygments_lexer": "ipython3",
   "version": "3.6.5"
  }
 },
 "nbformat": 4,
 "nbformat_minor": 2
}
