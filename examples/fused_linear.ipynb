{
 "cells": [
  {
   "cell_type": "code",
   "execution_count": 1,
   "metadata": {},
   "outputs": [
    {
     "name": "stderr",
     "output_type": "stream",
     "text": [
      "[INFO] tc_composer.settings - Setting default tensor type: torch.cuda.FloatTensor\n",
      "[INFO] tc_composer.settings - Setting epsilon: 1e-16\n",
      "[INFO] tc_composer.settings - Input tensor shape checking: False\n",
      "[INFO] tc_composer.settings - Saving compiled options in: /home/ubuntu/tc_composer/options\n",
      "[INFO] tc_composer.settings - Current CUDA device: Tesla K80\n",
      "[INFO] tc_composer.settings - Listing CUDA devices:\n"
     ]
    },
    {
     "name": "stdout",
     "output_type": "stream",
     "text": [
      "Found 1 CUDA devices\n",
      "id 0            b'Tesla K80'                              [SUPPORTED]\n",
      "                      compute capability: 3.7\n",
      "                           pci device id: 30\n",
      "                              pci bus id: 0\n",
      "Summary:\n",
      "\t1/1 devices are supported\n"
     ]
    }
   ],
   "source": [
    "import tc_composer\n",
    "import torch\n",
    "from torch import Tensor\n",
    "from torch import nn\n",
    "import tensor_comprehensions as tc\n",
    "from tc_composer.func.affine_transform import FusedAffineTransform, AffineTransform\n",
    "from tc_composer.func.function_with_params import Composition\n",
    "from tc_composer.func.activation import Activation"
   ]
  },
  {
   "cell_type": "code",
   "execution_count": 2,
   "metadata": {},
   "outputs": [],
   "source": [
    "batch_size = 2\n",
    "in_n = 128\n",
    "hiddens = tuple(range(60, 67))\n",
    "activations = tuple('relu' for _ in range(len(hiddens)))\n",
    "inp = torch.randn(batch_size, in_n)"
   ]
  },
  {
   "cell_type": "markdown",
   "metadata": {},
   "source": [
    "### Three different implementation"
   ]
  },
  {
   "cell_type": "code",
   "execution_count": 3,
   "metadata": {},
   "outputs": [],
   "source": [
    "fused_aff = FusedAffineTransform(in_n=in_n, hiddens=hiddens, activations=activations)"
   ]
  },
  {
   "cell_type": "code",
   "execution_count": 4,
   "metadata": {},
   "outputs": [
    {
     "name": "stdout",
     "output_type": "stream",
     "text": [
      "def FusedAffineTransform(\n",
      "    float(2, 128) input,\n",
      "    float(60, 128) weight,\n",
      "    float(60) bias,\n",
      "    float(61, 60) weight1,\n",
      "    float(61) bias1,\n",
      "    float(62, 61) weight2,\n",
      "    float(62) bias2,\n",
      "    float(63, 62) weight3,\n",
      "    float(63) bias3,\n",
      "    float(64, 63) weight4,\n",
      "    float(64) bias4,\n",
      "    float(65, 64) weight5,\n",
      "    float(65) bias5,\n",
      "    float(66, 65) weight6,\n",
      "    float(66) bias6\n",
      ") -> (\n",
      "    float(2, 60) output,\n",
      "    float(2, 61) output1,\n",
      "    float(2, 62) output2,\n",
      "    float(2, 63) output3,\n",
      "    float(2, 64) output4,\n",
      "    float(2, 65) output5,\n",
      "    float(2, 66) output6\n",
      ")\n",
      "{\n",
      "    output(b, n) +=! input(b, i) * weight(n, i)\n",
      "    output1(b, n) +=! fmax((output(b, i) + bias(i)), 0) * weight1(n, i)\n",
      "    output2(b, n) +=! fmax((output1(b, i) + bias1(i)), 0) * weight2(n, i)\n",
      "    output3(b, n) +=! fmax((output2(b, i) + bias2(i)), 0) * weight3(n, i)\n",
      "    output4(b, n) +=! fmax((output3(b, i) + bias3(i)), 0) * weight4(n, i)\n",
      "    output5(b, n) +=! fmax((output4(b, i) + bias4(i)), 0) * weight5(n, i)\n",
      "    output6(b, n) +=! fmax((output5(b, i) + bias5(i)), 0) * weight6(n, i)\n",
      "    output6(b, n) = fmax((output6(b, n) + bias6(n)), 0)\n",
      "}\n"
     ]
    }
   ],
   "source": [
    "print(fused_aff.tc_def(inp))"
   ]
  },
  {
   "cell_type": "code",
   "execution_count": 5,
   "metadata": {},
   "outputs": [],
   "source": [
    "def aff_yielder():\n",
    "    in_ns = (in_n,) + hiddens[:-1]\n",
    "    for i, o, a in zip(in_ns, hiddens, activations):\n",
    "        yield AffineTransform(i, o)\n",
    "        yield Activation(a)\n",
    "tc_aff = Composition(*aff_yielder())"
   ]
  },
  {
   "cell_type": "code",
   "execution_count": 6,
   "metadata": {},
   "outputs": [
    {
     "name": "stdout",
     "output_type": "stream",
     "text": [
      "def Composition(\n",
      "    float(2, 128) input1,\n",
      "    float(60, 128) weight7,\n",
      "    float(60) bias7,\n",
      "    float(61, 60) weight8,\n",
      "    float(61) bias8,\n",
      "    float(62, 61) weight9,\n",
      "    float(62) bias9,\n",
      "    float(63, 62) weight10,\n",
      "    float(63) bias10,\n",
      "    float(64, 63) weight11,\n",
      "    float(64) bias11,\n",
      "    float(65, 64) weight12,\n",
      "    float(65) bias12,\n",
      "    float(66, 65) weight13,\n",
      "    float(66) bias13\n",
      ") -> (\n",
      "    float(2, 60) output7,\n",
      "    float(2, 60) output8,\n",
      "    float(2, 61) output9,\n",
      "    float(2, 61) output10,\n",
      "    float(2, 62) output11,\n",
      "    float(2, 62) output12,\n",
      "    float(2, 63) output13,\n",
      "    float(2, 63) output14,\n",
      "    float(2, 64) output15,\n",
      "    float(2, 64) output16,\n",
      "    float(2, 65) output17,\n",
      "    float(2, 65) output18,\n",
      "    float(2, 66) output19,\n",
      "    float(2, 66) output20\n",
      ")\n",
      "{\n",
      "    output7(b, n) +=! input1(b, i) * weight7(n, i)\n",
      "    output7(b, n) = output7(b, n) + bias7(n)\n",
      "    \n",
      "    output8(b, i) = fmax(output7(b, i), 0)\n",
      "    \n",
      "    output9(b, n) +=! output8(b, i) * weight8(n, i)\n",
      "    output9(b, n) = output9(b, n) + bias8(n)\n",
      "    \n",
      "    output10(b, i) = fmax(output9(b, i), 0)\n",
      "    \n",
      "    output11(b, n) +=! output10(b, i) * weight9(n, i)\n",
      "    output11(b, n) = output11(b, n) + bias9(n)\n",
      "    \n",
      "    output12(b, i) = fmax(output11(b, i), 0)\n",
      "    \n",
      "    output13(b, n) +=! output12(b, i) * weight10(n, i)\n",
      "    output13(b, n) = output13(b, n) + bias10(n)\n",
      "    \n",
      "    output14(b, i) = fmax(output13(b, i), 0)\n",
      "    \n",
      "    output15(b, n) +=! output14(b, i) * weight11(n, i)\n",
      "    output15(b, n) = output15(b, n) + bias11(n)\n",
      "    \n",
      "    output16(b, i) = fmax(output15(b, i), 0)\n",
      "    \n",
      "    output17(b, n) +=! output16(b, i) * weight12(n, i)\n",
      "    output17(b, n) = output17(b, n) + bias12(n)\n",
      "    \n",
      "    output18(b, i) = fmax(output17(b, i), 0)\n",
      "    \n",
      "    output19(b, n) +=! output18(b, i) * weight13(n, i)\n",
      "    output19(b, n) = output19(b, n) + bias13(n)\n",
      "    \n",
      "    output20(b, i) = fmax(output19(b, i), 0)\n",
      "}\n"
     ]
    }
   ],
   "source": [
    "print(tc_aff.tc_def(inp))"
   ]
  },
  {
   "cell_type": "code",
   "execution_count": 19,
   "metadata": {},
   "outputs": [],
   "source": [
    "params = []\n",
    "for t in tc_aff.params:\n",
    "    if t.dim() > 1:\n",
    "        t = t.transpose(0, 1).contiguous()\n",
    "    params.append(t)"
   ]
  },
  {
   "cell_type": "code",
   "execution_count": 20,
   "metadata": {},
   "outputs": [],
   "source": [
    "from torch import nn, matmul, relu_ as relu_inplace\n",
    "\n",
    "def torch_aff(inp, params=params):\n",
    "    weights = tuple(w for n,w in enumerate(params) if n % 2 == 0)\n",
    "    biases = tuple(b for n,b in enumerate(params) if n % 2 == 1)\n",
    "\n",
    "    out = inp\n",
    "    for w, b in zip(weights, biases):\n",
    "        out = relu_inplace(matmul(out, w).add_(b))\n",
    "    \n",
    "    return out"
   ]
  },
  {
   "cell_type": "code",
   "execution_count": 21,
   "metadata": {},
   "outputs": [],
   "source": [
    "for p0, p1 in zip(fused_aff.params, tc_aff.params):\n",
    "    p0.data = p1.data.view_as(p0)"
   ]
  },
  {
   "cell_type": "markdown",
   "metadata": {},
   "source": [
    "### Correctness"
   ]
  },
  {
   "cell_type": "code",
   "execution_count": 10,
   "metadata": {},
   "outputs": [
    {
     "name": "stderr",
     "output_type": "stream",
     "text": [
      "[INFO] Composition - Compiling for input shape - [(2, 128)].\n",
      "[INFO] Composition - Option loaded from file for input shape - [(2, 128)].\n",
      "[INFO] FusedAffineTransform - Compiling for input shape - [(2, 128)].\n",
      "[INFO] FusedAffineTransform - Option loaded from file for input shape - [(2, 128)].\n"
     ]
    }
   ],
   "source": [
    "tc_aff.recompile(inp)\n",
    "fused_aff.recompile(inp)"
   ]
  },
  {
   "cell_type": "code",
   "execution_count": 26,
   "metadata": {},
   "outputs": [],
   "source": [
    "import numpy as np\n",
    "\n",
    "np.testing.assert_allclose(fused_aff(inp).data, tc_aff(inp).data, rtol=1e-4)\n",
    "np.testing.assert_allclose(torch_aff(inp, params).data, tc_aff(inp).data, rtol=1e-4)"
   ]
  },
  {
   "cell_type": "markdown",
   "metadata": {},
   "source": [
    "### Compile speed difference"
   ]
  },
  {
   "cell_type": "code",
   "execution_count": 9,
   "metadata": {
    "scrolled": false
   },
   "outputs": [
    {
     "name": "stderr",
     "output_type": "stream",
     "text": [
      "[INFO] FusedAffineTransform - Compiling for input shape - [(2, 128)].\n",
      "[INFO] FusedAffineTransform - Compiling for input shape - [(2, 128)].\n",
      "[INFO] FusedAffineTransform - Compiling for input shape - [(2, 128)].\n",
      "[INFO] FusedAffineTransform - Compiling for input shape - [(2, 128)].\n",
      "[INFO] FusedAffineTransform - Compiling for input shape - [(2, 128)].\n",
      "[INFO] FusedAffineTransform - Compiling for input shape - [(2, 128)].\n",
      "[INFO] FusedAffineTransform - Compiling for input shape - [(2, 128)].\n",
      "[INFO] FusedAffineTransform - Compiling for input shape - [(2, 128)].\n",
      "[INFO] FusedAffineTransform - Compiling for input shape - [(2, 128)].\n",
      "[INFO] FusedAffineTransform - Compiling for input shape - [(2, 128)].\n",
      "[INFO] Composition - Compiling for input shape - [(2, 128)].\n"
     ]
    },
    {
     "name": "stdout",
     "output_type": "stream",
     "text": [
      "60.37919940699976\n"
     ]
    },
    {
     "name": "stderr",
     "output_type": "stream",
     "text": [
      "[INFO] Composition - Compiling for input shape - [(2, 128)].\n",
      "[INFO] Composition - Compiling for input shape - [(2, 128)].\n",
      "[INFO] Composition - Compiling for input shape - [(2, 128)].\n",
      "[INFO] Composition - Compiling for input shape - [(2, 128)].\n",
      "[INFO] Composition - Compiling for input shape - [(2, 128)].\n",
      "[INFO] Composition - Compiling for input shape - [(2, 128)].\n",
      "[INFO] Composition - Compiling for input shape - [(2, 128)].\n",
      "[INFO] Composition - Compiling for input shape - [(2, 128)].\n",
      "[INFO] Composition - Compiling for input shape - [(2, 128)].\n"
     ]
    },
    {
     "name": "stdout",
     "output_type": "stream",
     "text": [
      "127.94613626099999\n"
     ]
    }
   ],
   "source": [
    "from timeit import timeit\n",
    "\n",
    "option = tc.MappingOptions('naive')\n",
    "print(timeit(lambda: fused_aff.recompile(inp, option=option), number=10))\n",
    "print(timeit(lambda: tc_aff.recompile(inp, option=option), number=10))"
   ]
  },
  {
   "cell_type": "markdown",
   "metadata": {},
   "source": [
    "### Benchmark"
   ]
  },
  {
   "cell_type": "code",
   "execution_count": 15,
   "metadata": {},
   "outputs": [],
   "source": [
    "import time\n",
    "def mytime(iters, prepend, runFun, *args):\n",
    "    timesCPU = []\n",
    "    timesCPUAndGPU = []\n",
    "    for i in range(iters):\n",
    "        torch.cuda.synchronize()\n",
    "        start = time.clock()\n",
    "        outputs = runFun(*args)\n",
    "        timesCPU.append(time.clock() - start)\n",
    "        torch.cuda.synchronize()\n",
    "        timesCPUAndGPU.append(time.clock() - start)\n",
    "    print(\"#################################################################\")\n",
    "    timesCPU = sorted(timesCPU)\n",
    "    print(\n",
    "        \"{} Total CPU time to launch kernel: min {}us, p50 {}us, p90 {}us, max {}us\".\n",
    "        format(\n",
    "            prepend,\n",
    "            int(timesCPU[0] * 1e6),\n",
    "            int(timesCPU[int(len(timesCPU) // 2)] * 1e6),\n",
    "            int(timesCPU[int((len(timesCPU) * 9) // 10)] * 1e6),\n",
    "            int(timesCPU[len(timesCPU) - 1] * 1e6),\n",
    "        ))\n",
    "    timesCPUAndGPU = sorted(timesCPUAndGPU)\n",
    "    print(\n",
    "        \"{} Total CPU launch + GPU kernel time: min {}us, p50 {}us, p90 {}us, max {}us\".\n",
    "        format(\n",
    "            prepend,\n",
    "            int(timesCPUAndGPU[0] * 1e6),\n",
    "            int(timesCPUAndGPU[int(len(timesCPUAndGPU) // 2)] * 1e6),\n",
    "            int(timesCPUAndGPU[int((len(timesCPUAndGPU) * 9) // 10)] * 1e6),\n",
    "            int(timesCPUAndGPU[len(timesCPUAndGPU) - 1] * 1e6),\n",
    "        ))"
   ]
  },
  {
   "cell_type": "code",
   "execution_count": 33,
   "metadata": {
    "scrolled": true
   },
   "outputs": [
    {
     "name": "stdout",
     "output_type": "stream",
     "text": [
      "#################################################################\n",
      "raw tuned options\t Total CPU time to launch kernel: min 147us, p50 151us, p90 156us, max 298us\n",
      "raw tuned options\t Total CPU launch + GPU kernel time: min 968us, p50 978us, p90 994us, max 2015us\n"
     ]
    }
   ],
   "source": [
    "mytime(\n",
    "    10000,\n",
    "    \"raw tuned options\\t\",\n",
    "    tc_aff,\n",
    "    inp\n",
    ")"
   ]
  },
  {
   "cell_type": "code",
   "execution_count": 34,
   "metadata": {},
   "outputs": [
    {
     "name": "stdout",
     "output_type": "stream",
     "text": [
      "#################################################################\n",
      "raw tuned options\t Total CPU time to launch kernel: min 141us, p50 144us, p90 149us, max 695us\n",
      "raw tuned options\t Total CPU launch + GPU kernel time: min 967us, p50 979us, p90 984us, max 1261us\n"
     ]
    }
   ],
   "source": [
    "mytime(\n",
    "    10000,\n",
    "    \"raw tuned options\\t\",\n",
    "    fused_aff,\n",
    "    inp\n",
    ")"
   ]
  },
  {
   "cell_type": "code",
   "execution_count": 46,
   "metadata": {},
   "outputs": [
    {
     "name": "stdout",
     "output_type": "stream",
     "text": [
      "#################################################################\n",
      "raw tuned options\t Total CPU time to launch kernel: min 222us, p50 226us, p90 230us, max 2113us\n",
      "raw tuned options\t Total CPU launch + GPU kernel time: min 235us, p50 245us, p90 294us, max 2133us\n"
     ]
    }
   ],
   "source": [
    "mytime(\n",
    "    10000,\n",
    "    \"raw tuned options\\t\",\n",
    "    torch_aff,\n",
    "    inp\n",
    ")"
   ]
  },
  {
   "cell_type": "markdown",
   "metadata": {},
   "source": [
    "### Tuning"
   ]
  },
  {
   "cell_type": "code",
   "execution_count": 18,
   "metadata": {},
   "outputs": [
    {
     "name": "stderr",
     "output_type": "stream",
     "text": [
      "[INFO] FusedAffineTransform - Appending results to /home/ubuntu/tc_composer/options/FusedAffineTransform_Tesla_K80\n",
      "[INFO] Composition - Loading start options from file - /home/ubuntu/tc_composer/options/Composition_Tesla_K80\n",
      "[INFO] Composition - Option loaded from file for input shape - [(2, 128)].\n",
      "[INFO] Composition - Appending results to /home/ubuntu/tc_composer/options/Composition_Tesla_K80\n"
     ]
    },
    {
     "data": {
      "text/plain": [
       "<tensor_comprehensions.tclib.MappingOptions at 0x7fd24005cce0>"
      ]
     },
     "execution_count": 18,
     "metadata": {},
     "output_type": "execute_result"
    }
   ],
   "source": [
    "fused_aff.tune_options([inp], tuner_config=tc.TunerConfig().number_elites(15))\n",
    "tc_aff.tune_options([inp], tuner_config=tc.TunerConfig().number_elites(15))"
   ]
  },
  {
   "cell_type": "code",
   "execution_count": 12,
   "metadata": {},
   "outputs": [
    {
     "name": "stderr",
     "output_type": "stream",
     "text": [
      "[INFO] Composition - Option loaded from file for input shape - [(2, 128)].\n",
      "[INFO] FusedAffineTransform - Option loaded from file for input shape - [(2, 128)].\n"
     ]
    },
    {
     "name": "stdout",
     "output_type": "stream",
     "text": [
      "generic_mapping_options {\n",
      "  outer_schedule_options {\n",
      "    fusion_strategy: Preserve3Coincident\n",
      "    allow_skewing: false\n",
      "    positive_orthant: true\n",
      "  }\n",
      "  intra_tile_schedule_options {\n",
      "    fusion_strategy: Preserve3Coincident\n",
      "    allow_skewing: false\n",
      "    positive_orthant: true\n",
      "  }\n",
      "  fix_parameters_before_scheduling: false\n",
      "  tiling {\n",
      "    sizes: 128\n",
      "  }\n",
      "  unroll: 8\n",
      "  tile_imperfectly_nested: false\n",
      "  match_library_calls: false\n",
      "}\n",
      "block {\n",
      "  x: 66\n",
      "  y: 5\n",
      "}\n",
      "grid {\n",
      "  x: 64\n",
      "  y: 16\n",
      "}\n",
      "use_shared_memory: true\n",
      "use_private_memory: true\n",
      "unroll_copy_shared: false\n",
      "use_readonly_cache: true\n",
      "\n",
      "---------------------\n",
      "generic_mapping_options {\n",
      "  outer_schedule_options {\n",
      "    fusion_strategy: Max\n",
      "    allow_skewing: false\n",
      "    positive_orthant: true\n",
      "  }\n",
      "  intra_tile_schedule_options {\n",
      "    fusion_strategy: Preserve3Coincident\n",
      "    allow_skewing: false\n",
      "    positive_orthant: true\n",
      "  }\n",
      "  fix_parameters_before_scheduling: true\n",
      "  tiling {\n",
      "    sizes: 63\n",
      "  }\n",
      "  unroll: 32\n",
      "  tile_imperfectly_nested: false\n",
      "  match_library_calls: false\n",
      "}\n",
      "block {\n",
      "  x: 66\n",
      "  y: 5\n",
      "}\n",
      "grid {\n",
      "  x: 31\n",
      "}\n",
      "use_shared_memory: true\n",
      "use_private_memory: true\n",
      "unroll_copy_shared: true\n",
      "use_readonly_cache: true\n",
      "\n"
     ]
    }
   ],
   "source": [
    "print(tc_aff.get_options(inp))\n",
    "print('---------------------')\n",
    "print(fused_aff.get_options(inp))"
   ]
  },
  {
   "cell_type": "code",
   "execution_count": 13,
   "metadata": {
    "scrolled": true
   },
   "outputs": [
    {
     "name": "stderr",
     "output_type": "stream",
     "text": [
      "[INFO] Composition - Compiling for input shape - [(2, 128)].\n",
      "[INFO] Composition - Option loaded from file for input shape - [(2, 128)].\n",
      "[INFO] FusedAffineTransform - Compiling for input shape - [(2, 128)].\n",
      "[INFO] FusedAffineTransform - Option loaded from file for input shape - [(2, 128)].\n"
     ]
    }
   ],
   "source": [
    "tc_aff.recompile(inp)\n",
    "fused_aff.recompile(inp)"
   ]
  },
  {
   "cell_type": "code",
   "execution_count": 16,
   "metadata": {
    "scrolled": true
   },
   "outputs": [
    {
     "name": "stdout",
     "output_type": "stream",
     "text": [
      "#################################################################\n",
      "raw tuned options\t Total CPU time to launch kernel: min 139us, p50 142us, p90 146us, max 96249us\n",
      "raw tuned options\t Total CPU launch + GPU kernel time: min 200us, p50 204us, p90 207us, max 96279us\n"
     ]
    }
   ],
   "source": [
    "mytime(\n",
    "    10000,\n",
    "    \"raw tuned options\\t\",\n",
    "    tc_aff,\n",
    "    inp\n",
    ")"
   ]
  },
  {
   "cell_type": "code",
   "execution_count": 17,
   "metadata": {},
   "outputs": [
    {
     "name": "stdout",
     "output_type": "stream",
     "text": [
      "#################################################################\n",
      "raw tuned options\t Total CPU time to launch kernel: min 134us, p50 136us, p90 140us, max 126091us\n",
      "raw tuned options\t Total CPU launch + GPU kernel time: min 192us, p50 196us, p90 199us, max 126124us\n"
     ]
    }
   ],
   "source": [
    "mytime(\n",
    "    10000,\n",
    "    \"raw tuned options\\t\",\n",
    "    fused_aff,\n",
    "    inp\n",
    ")"
   ]
  },
  {
   "cell_type": "code",
   "execution_count": 25,
   "metadata": {},
   "outputs": [
    {
     "name": "stdout",
     "output_type": "stream",
     "text": [
      "#################################################################\n",
      "raw tuned options\t Total CPU time to launch kernel: min 225us, p50 229us, p90 235us, max 2110us\n",
      "raw tuned options\t Total CPU launch + GPU kernel time: min 235us, p50 244us, p90 249us, max 2127us\n"
     ]
    }
   ],
   "source": [
    "mytime(\n",
    "    10000,\n",
    "    \"raw tuned options\\t\",\n",
    "    torch_aff,\n",
    "    inp\n",
    ")"
   ]
  }
 ],
 "metadata": {
  "kernelspec": {
   "display_name": "Python 3",
   "language": "python",
   "name": "python3"
  },
  "language_info": {
   "codemirror_mode": {
    "name": "ipython",
    "version": 3
   },
   "file_extension": ".py",
   "mimetype": "text/x-python",
   "name": "python",
   "nbconvert_exporter": "python",
   "pygments_lexer": "ipython3",
   "version": "3.6.5"
  }
 },
 "nbformat": 4,
 "nbformat_minor": 2
}
