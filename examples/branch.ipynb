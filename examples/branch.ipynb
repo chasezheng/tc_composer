{
 "cells": [
  {
   "cell_type": "code",
   "execution_count": 1,
   "metadata": {},
   "outputs": [
    {
     "name": "stderr",
     "output_type": "stream",
     "text": [
      "[INFO] tc_composer.settings - Setting default tensor type: torch.cuda.FloatTensor\n",
      "[INFO] tc_composer.settings - Setting epsilon: 1e-16\n",
      "[INFO] tc_composer.settings - Input tensor shape checking: False\n",
      "[INFO] tc_composer.settings - Saving compiled options in: /home/ubuntu/tc_composer/options\n"
     ]
    }
   ],
   "source": [
    "import torch\n",
    "from tc_composer.func.affine_transform import AffineTransform\n",
    "from tc_composer.func.activation import Activation\n",
    "from tc_composer.func.merge import Sum"
   ]
  },
  {
   "cell_type": "code",
   "execution_count": 2,
   "metadata": {},
   "outputs": [],
   "source": [
    "batch_size = 2\n",
    "in_n = 32\n",
    "inp = torch.randn(batch_size, in_n)\n",
    "\n",
    "out_n = 16"
   ]
  },
  {
   "cell_type": "code",
   "execution_count": 3,
   "metadata": {},
   "outputs": [],
   "source": [
    "branch = AffineTransform(in_n, out_n) + AffineTransform(in_n, out_n)\n",
    "merge = branch << Sum() << Activation('relu')"
   ]
  },
  {
   "cell_type": "code",
   "execution_count": 4,
   "metadata": {},
   "outputs": [
    {
     "name": "stdout",
     "output_type": "stream",
     "text": [
      "def Composition(\n",
      "    float(2, 32) input,\n",
      "    float(16, 32) weight,\n",
      "    float(16) bias,\n",
      "    float(16, 32) weight1,\n",
      "    float(16) bias1\n",
      ") -> (\n",
      "    float(2, 16) output,\n",
      "    float(2, 16) output1,\n",
      "    float(2, 16) summed,\n",
      "    float(2, 16) output2\n",
      ")\n",
      "{\n",
      "    output(b, n) +=! input(b, i) * weight(n, i)\n",
      "    output(b, n) = output(b, n) + bias(n)\n",
      "    \n",
      "    output1(b, n) +=! input(b, i) * weight1(n, i)\n",
      "    output1(b, n) = output1(b, n) + bias1(n)\n",
      "    \n",
      "    summed(b, i) = output(b, i) + output1(b, i)\n",
      "        where exists output(b, i), exists output1(b, i)\n",
      "    \n",
      "    output2(b, i) = fmax(summed(b, i), 0)\n",
      "}\n"
     ]
    }
   ],
   "source": [
    "print(merge.tc_def(inp))"
   ]
  },
  {
   "cell_type": "code",
   "execution_count": 5,
   "metadata": {},
   "outputs": [
    {
     "name": "stderr",
     "output_type": "stream",
     "text": [
      "[INFO] Composition - Compiling for input shape - [(2, 32)].\n",
      "[WARNING] Composition - No option loaded from file for input shape - [(2, 32)].\n",
      "[WARNING] Composition - Initializing naive options.\n"
     ]
    }
   ],
   "source": [
    "merge.recompile(inp)"
   ]
  },
  {
   "cell_type": "markdown",
   "metadata": {},
   "source": [
    "### Torch implementation"
   ]
  },
  {
   "cell_type": "code",
   "execution_count": 6,
   "metadata": {},
   "outputs": [],
   "source": [
    "params = []\n",
    "for t in merge.params:\n",
    "    if t.dim() > 1:\n",
    "        t = t.transpose(0, 1).contiguous()\n",
    "    params.append(t)"
   ]
  },
  {
   "cell_type": "code",
   "execution_count": 8,
   "metadata": {},
   "outputs": [],
   "source": [
    "from torch import nn, matmul, relu_ as relu_inplace\n",
    "\n",
    "def mytorch(inp, params=params):\n",
    "    weights = tuple(w for n,w in enumerate(params) if n % 2 == 0)\n",
    "    biases = tuple(b for n,b in enumerate(params) if n % 2 == 1)\n",
    "\n",
    "    out = matmul(inp, weights[0]).add_(biases[0]).add_(matmul(inp, weights[1])).add_(biases[1])\n",
    "\n",
    "    return relu_inplace(out)"
   ]
  },
  {
   "cell_type": "markdown",
   "metadata": {},
   "source": [
    "### Correctness"
   ]
  },
  {
   "cell_type": "code",
   "execution_count": 10,
   "metadata": {},
   "outputs": [],
   "source": [
    "import numpy as np\n",
    "\n",
    "np.testing.assert_allclose(merge(inp), mytorch(inp), rtol=1e-4)"
   ]
  }
 ],
 "metadata": {
  "kernelspec": {
   "display_name": "Python 3",
   "language": "python",
   "name": "python3"
  },
  "language_info": {
   "codemirror_mode": {
    "name": "ipython",
    "version": 3
   },
   "file_extension": ".py",
   "mimetype": "text/x-python",
   "name": "python",
   "nbconvert_exporter": "python",
   "pygments_lexer": "ipython3",
   "version": "3.6.5"
  }
 },
 "nbformat": 4,
 "nbformat_minor": 2
}
